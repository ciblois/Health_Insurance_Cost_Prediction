{
 "metadata": {
  "language_info": {
   "codemirror_mode": {
    "name": "ipython",
    "version": 3
   },
   "file_extension": ".py",
   "mimetype": "text/x-python",
   "name": "python",
   "nbconvert_exporter": "python",
   "pygments_lexer": "ipython3",
   "version": "3.8.5-final"
  },
  "orig_nbformat": 2,
  "kernelspec": {
   "name": "python38564bit4f57281242da47b0a84bc03a5fa692d9",
   "display_name": "Python 3.8.5 64-bit"
  }
 },
 "nbformat": 4,
 "nbformat_minor": 2,
 "cells": [
  {
   "source": [
    "# Kaggle_Health_Insurance_Cost_Prediction"
   ],
   "cell_type": "markdown",
   "metadata": {}
  },
  {
   "source": [
    "### Importing the libraries"
   ],
   "cell_type": "markdown",
   "metadata": {}
  },
  {
   "cell_type": "code",
   "execution_count": 1,
   "metadata": {},
   "outputs": [],
   "source": [
    "import pandas as pd\n",
    "import numpy as np\n",
    "import seaborn as sns\n",
    "import matplotlib.pyplot as plt"
   ]
  },
  {
   "cell_type": "code",
   "execution_count": 2,
   "metadata": {},
   "outputs": [],
   "source": [
    "health = pd.read_csv('insurance.csv')"
   ]
  },
  {
   "source": [
    "### columns\n",
    "* age\n",
    "* sex\n",
    "* bmi = body mass index\n",
    "* children\n",
    "* smoker\n",
    "* region\n",
    "* charges\n",
    "\n",
    "### 1338 lines"
   ],
   "cell_type": "markdown",
   "metadata": {}
  },
  {
   "cell_type": "code",
   "execution_count": 3,
   "metadata": {},
   "outputs": [
    {
     "output_type": "execute_result",
     "data": {
      "text/plain": [
       "   age     sex     bmi  children smoker     region      charges\n",
       "0   19  female  27.900         0    yes  southwest  16884.92400\n",
       "1   18    male  33.770         1     no  southeast   1725.55230\n",
       "2   28    male  33.000         3     no  southeast   4449.46200\n",
       "3   33    male  22.705         0     no  northwest  21984.47061\n",
       "4   32    male  28.880         0     no  northwest   3866.85520"
      ],
      "text/html": "<div>\n<style scoped>\n    .dataframe tbody tr th:only-of-type {\n        vertical-align: middle;\n    }\n\n    .dataframe tbody tr th {\n        vertical-align: top;\n    }\n\n    .dataframe thead th {\n        text-align: right;\n    }\n</style>\n<table border=\"1\" class=\"dataframe\">\n  <thead>\n    <tr style=\"text-align: right;\">\n      <th></th>\n      <th>age</th>\n      <th>sex</th>\n      <th>bmi</th>\n      <th>children</th>\n      <th>smoker</th>\n      <th>region</th>\n      <th>charges</th>\n    </tr>\n  </thead>\n  <tbody>\n    <tr>\n      <th>0</th>\n      <td>19</td>\n      <td>female</td>\n      <td>27.900</td>\n      <td>0</td>\n      <td>yes</td>\n      <td>southwest</td>\n      <td>16884.92400</td>\n    </tr>\n    <tr>\n      <th>1</th>\n      <td>18</td>\n      <td>male</td>\n      <td>33.770</td>\n      <td>1</td>\n      <td>no</td>\n      <td>southeast</td>\n      <td>1725.55230</td>\n    </tr>\n    <tr>\n      <th>2</th>\n      <td>28</td>\n      <td>male</td>\n      <td>33.000</td>\n      <td>3</td>\n      <td>no</td>\n      <td>southeast</td>\n      <td>4449.46200</td>\n    </tr>\n    <tr>\n      <th>3</th>\n      <td>33</td>\n      <td>male</td>\n      <td>22.705</td>\n      <td>0</td>\n      <td>no</td>\n      <td>northwest</td>\n      <td>21984.47061</td>\n    </tr>\n    <tr>\n      <th>4</th>\n      <td>32</td>\n      <td>male</td>\n      <td>28.880</td>\n      <td>0</td>\n      <td>no</td>\n      <td>northwest</td>\n      <td>3866.85520</td>\n    </tr>\n  </tbody>\n</table>\n</div>"
     },
     "metadata": {},
     "execution_count": 3
    }
   ],
   "source": [
    "health.head()"
   ]
  },
  {
   "cell_type": "code",
   "execution_count": 4,
   "metadata": {},
   "outputs": [
    {
     "output_type": "execute_result",
     "data": {
      "text/plain": [
       "              age        bmi       charges  children\n",
       "smoker                                              \n",
       "no      39.385338  30.651795   8434.268298  1.090226\n",
       "yes     38.514599  30.708449  32050.231832  1.113139"
      ],
      "text/html": "<div>\n<style scoped>\n    .dataframe tbody tr th:only-of-type {\n        vertical-align: middle;\n    }\n\n    .dataframe tbody tr th {\n        vertical-align: top;\n    }\n\n    .dataframe thead th {\n        text-align: right;\n    }\n</style>\n<table border=\"1\" class=\"dataframe\">\n  <thead>\n    <tr style=\"text-align: right;\">\n      <th></th>\n      <th>age</th>\n      <th>bmi</th>\n      <th>charges</th>\n      <th>children</th>\n    </tr>\n    <tr>\n      <th>smoker</th>\n      <th></th>\n      <th></th>\n      <th></th>\n      <th></th>\n    </tr>\n  </thead>\n  <tbody>\n    <tr>\n      <th>no</th>\n      <td>39.385338</td>\n      <td>30.651795</td>\n      <td>8434.268298</td>\n      <td>1.090226</td>\n    </tr>\n    <tr>\n      <th>yes</th>\n      <td>38.514599</td>\n      <td>30.708449</td>\n      <td>32050.231832</td>\n      <td>1.113139</td>\n    </tr>\n  </tbody>\n</table>\n</div>"
     },
     "metadata": {},
     "execution_count": 4
    }
   ],
   "source": [
    "health.pivot_table(index='smoker',aggfunc=np.mean)"
   ]
  },
  {
   "cell_type": "code",
   "execution_count": 5,
   "metadata": {},
   "outputs": [
    {
     "output_type": "execute_result",
     "data": {
      "text/plain": [
       "                 age        bmi       charges  children\n",
       "region                                                 \n",
       "northeast  39.268519  29.173503  13406.384516  1.046296\n",
       "northwest  39.196923  29.199785  12417.575374  1.147692\n",
       "southeast  38.939560  33.355989  14735.411438  1.049451\n",
       "southwest  39.455385  30.596615  12346.937377  1.141538"
      ],
      "text/html": "<div>\n<style scoped>\n    .dataframe tbody tr th:only-of-type {\n        vertical-align: middle;\n    }\n\n    .dataframe tbody tr th {\n        vertical-align: top;\n    }\n\n    .dataframe thead th {\n        text-align: right;\n    }\n</style>\n<table border=\"1\" class=\"dataframe\">\n  <thead>\n    <tr style=\"text-align: right;\">\n      <th></th>\n      <th>age</th>\n      <th>bmi</th>\n      <th>charges</th>\n      <th>children</th>\n    </tr>\n    <tr>\n      <th>region</th>\n      <th></th>\n      <th></th>\n      <th></th>\n      <th></th>\n    </tr>\n  </thead>\n  <tbody>\n    <tr>\n      <th>northeast</th>\n      <td>39.268519</td>\n      <td>29.173503</td>\n      <td>13406.384516</td>\n      <td>1.046296</td>\n    </tr>\n    <tr>\n      <th>northwest</th>\n      <td>39.196923</td>\n      <td>29.199785</td>\n      <td>12417.575374</td>\n      <td>1.147692</td>\n    </tr>\n    <tr>\n      <th>southeast</th>\n      <td>38.939560</td>\n      <td>33.355989</td>\n      <td>14735.411438</td>\n      <td>1.049451</td>\n    </tr>\n    <tr>\n      <th>southwest</th>\n      <td>39.455385</td>\n      <td>30.596615</td>\n      <td>12346.937377</td>\n      <td>1.141538</td>\n    </tr>\n  </tbody>\n</table>\n</div>"
     },
     "metadata": {},
     "execution_count": 5
    }
   ],
   "source": [
    "health.pivot_table(index='region',aggfunc=np.mean)"
   ]
  },
  {
   "cell_type": "code",
   "execution_count": 6,
   "metadata": {},
   "outputs": [
    {
     "output_type": "execute_result",
     "data": {
      "text/plain": [
       "                        age        bmi       charges  children\n",
       "region    smoker                                              \n",
       "northeast no      39.536965  29.332082   9165.531672  1.046693\n",
       "          yes     38.238806  28.565224  29673.536473  1.044776\n",
       "northwest no      39.168539  29.212678   8556.463715  1.119850\n",
       "          yes     39.327586  29.140431  30192.003182  1.275862\n",
       "southeast no      38.673993  33.442418   8032.216309  1.065934\n",
       "          yes     39.736264  33.096703  34844.996824  1.000000\n",
       "southwest no      40.183521  30.507865   8019.284513  1.127341\n",
       "          yes     36.103448  31.005172  32269.063494  1.206897"
      ],
      "text/html": "<div>\n<style scoped>\n    .dataframe tbody tr th:only-of-type {\n        vertical-align: middle;\n    }\n\n    .dataframe tbody tr th {\n        vertical-align: top;\n    }\n\n    .dataframe thead th {\n        text-align: right;\n    }\n</style>\n<table border=\"1\" class=\"dataframe\">\n  <thead>\n    <tr style=\"text-align: right;\">\n      <th></th>\n      <th></th>\n      <th>age</th>\n      <th>bmi</th>\n      <th>charges</th>\n      <th>children</th>\n    </tr>\n    <tr>\n      <th>region</th>\n      <th>smoker</th>\n      <th></th>\n      <th></th>\n      <th></th>\n      <th></th>\n    </tr>\n  </thead>\n  <tbody>\n    <tr>\n      <th rowspan=\"2\" valign=\"top\">northeast</th>\n      <th>no</th>\n      <td>39.536965</td>\n      <td>29.332082</td>\n      <td>9165.531672</td>\n      <td>1.046693</td>\n    </tr>\n    <tr>\n      <th>yes</th>\n      <td>38.238806</td>\n      <td>28.565224</td>\n      <td>29673.536473</td>\n      <td>1.044776</td>\n    </tr>\n    <tr>\n      <th rowspan=\"2\" valign=\"top\">northwest</th>\n      <th>no</th>\n      <td>39.168539</td>\n      <td>29.212678</td>\n      <td>8556.463715</td>\n      <td>1.119850</td>\n    </tr>\n    <tr>\n      <th>yes</th>\n      <td>39.327586</td>\n      <td>29.140431</td>\n      <td>30192.003182</td>\n      <td>1.275862</td>\n    </tr>\n    <tr>\n      <th rowspan=\"2\" valign=\"top\">southeast</th>\n      <th>no</th>\n      <td>38.673993</td>\n      <td>33.442418</td>\n      <td>8032.216309</td>\n      <td>1.065934</td>\n    </tr>\n    <tr>\n      <th>yes</th>\n      <td>39.736264</td>\n      <td>33.096703</td>\n      <td>34844.996824</td>\n      <td>1.000000</td>\n    </tr>\n    <tr>\n      <th rowspan=\"2\" valign=\"top\">southwest</th>\n      <th>no</th>\n      <td>40.183521</td>\n      <td>30.507865</td>\n      <td>8019.284513</td>\n      <td>1.127341</td>\n    </tr>\n    <tr>\n      <th>yes</th>\n      <td>36.103448</td>\n      <td>31.005172</td>\n      <td>32269.063494</td>\n      <td>1.206897</td>\n    </tr>\n  </tbody>\n</table>\n</div>"
     },
     "metadata": {},
     "execution_count": 6
    }
   ],
   "source": [
    "health.pivot_table(index=['region','smoker'],aggfunc=np.mean)"
   ]
  },
  {
   "source": [
    "#### The variable that have the most strong correlation with charges is age. So the age of a person is the factor that most influence on the charges. After that, bmi is the second."
   ],
   "cell_type": "markdown",
   "metadata": {}
  },
  {
   "cell_type": "code",
   "execution_count": 7,
   "metadata": {},
   "outputs": [
    {
     "output_type": "execute_result",
     "data": {
      "text/plain": [
       "               age       bmi  children   charges\n",
       "age       1.000000  0.109272  0.042469  0.299008\n",
       "bmi       0.109272  1.000000  0.012759  0.198341\n",
       "children  0.042469  0.012759  1.000000  0.067998\n",
       "charges   0.299008  0.198341  0.067998  1.000000"
      ],
      "text/html": "<div>\n<style scoped>\n    .dataframe tbody tr th:only-of-type {\n        vertical-align: middle;\n    }\n\n    .dataframe tbody tr th {\n        vertical-align: top;\n    }\n\n    .dataframe thead th {\n        text-align: right;\n    }\n</style>\n<table border=\"1\" class=\"dataframe\">\n  <thead>\n    <tr style=\"text-align: right;\">\n      <th></th>\n      <th>age</th>\n      <th>bmi</th>\n      <th>children</th>\n      <th>charges</th>\n    </tr>\n  </thead>\n  <tbody>\n    <tr>\n      <th>age</th>\n      <td>1.000000</td>\n      <td>0.109272</td>\n      <td>0.042469</td>\n      <td>0.299008</td>\n    </tr>\n    <tr>\n      <th>bmi</th>\n      <td>0.109272</td>\n      <td>1.000000</td>\n      <td>0.012759</td>\n      <td>0.198341</td>\n    </tr>\n    <tr>\n      <th>children</th>\n      <td>0.042469</td>\n      <td>0.012759</td>\n      <td>1.000000</td>\n      <td>0.067998</td>\n    </tr>\n    <tr>\n      <th>charges</th>\n      <td>0.299008</td>\n      <td>0.198341</td>\n      <td>0.067998</td>\n      <td>1.000000</td>\n    </tr>\n  </tbody>\n</table>\n</div>"
     },
     "metadata": {},
     "execution_count": 7
    }
   ],
   "source": [
    "health.corr()"
   ]
  },
  {
   "source": [
    "#### Export the data cleaned as an excel file"
   ],
   "cell_type": "markdown",
   "metadata": {}
  },
  {
   "cell_type": "code",
   "execution_count": 55,
   "metadata": {},
   "outputs": [],
   "source": [
    "health.to_excel('insurance_cleaned.xlsx')."
   ]
  }
 ]
}