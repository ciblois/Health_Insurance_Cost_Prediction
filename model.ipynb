{
 "metadata": {
  "language_info": {
   "codemirror_mode": {
    "name": "ipython",
    "version": 3
   },
   "file_extension": ".py",
   "mimetype": "text/x-python",
   "name": "python",
   "nbconvert_exporter": "python",
   "pygments_lexer": "ipython3",
   "version": "3.8.3-final"
  },
  "orig_nbformat": 2,
  "kernelspec": {
   "name": "python3",
   "display_name": "Python 3"
  }
 },
 "nbformat": 4,
 "nbformat_minor": 2,
 "cells": [
  {
   "cell_type": "code",
   "execution_count": 27,
   "metadata": {},
   "outputs": [],
   "source": [
    "import numpy as np\n",
    "import pandas as pd\n",
    "import seaborn as sns\n",
    "import matplotlib.pyplot as plt\n",
    "import pickle"
   ]
  },
  {
   "cell_type": "code",
   "execution_count": 28,
   "metadata": {},
   "outputs": [],
   "source": [
    "health = pd.read_excel('insurance_cleaned.xlsx')"
   ]
  },
  {
   "cell_type": "code",
   "execution_count": 29,
   "metadata": {},
   "outputs": [
    {
     "output_type": "execute_result",
     "data": {
      "text/plain": [
       "   Unnamed: 0  age     sex     bmi  children  smoker     region      charges  \\\n",
       "0           0   19  female  27.900         0    True  southwest  16884.92400   \n",
       "1           1   18    male  33.770         1   False  southeast   1725.55230   \n",
       "2           2   28    male  33.000         3   False  southeast   4449.46200   \n",
       "3           3   33    male  22.705         0   False  northwest  21984.47061   \n",
       "4           4   32    male  28.880         0   False  northwest   3866.85520   \n",
       "\n",
       "   children?  \n",
       "0      False  \n",
       "1       True  \n",
       "2       True  \n",
       "3      False  \n",
       "4      False  "
      ],
      "text/html": "<div>\n<style scoped>\n    .dataframe tbody tr th:only-of-type {\n        vertical-align: middle;\n    }\n\n    .dataframe tbody tr th {\n        vertical-align: top;\n    }\n\n    .dataframe thead th {\n        text-align: right;\n    }\n</style>\n<table border=\"1\" class=\"dataframe\">\n  <thead>\n    <tr style=\"text-align: right;\">\n      <th></th>\n      <th>Unnamed: 0</th>\n      <th>age</th>\n      <th>sex</th>\n      <th>bmi</th>\n      <th>children</th>\n      <th>smoker</th>\n      <th>region</th>\n      <th>charges</th>\n      <th>children?</th>\n    </tr>\n  </thead>\n  <tbody>\n    <tr>\n      <th>0</th>\n      <td>0</td>\n      <td>19</td>\n      <td>female</td>\n      <td>27.900</td>\n      <td>0</td>\n      <td>True</td>\n      <td>southwest</td>\n      <td>16884.92400</td>\n      <td>False</td>\n    </tr>\n    <tr>\n      <th>1</th>\n      <td>1</td>\n      <td>18</td>\n      <td>male</td>\n      <td>33.770</td>\n      <td>1</td>\n      <td>False</td>\n      <td>southeast</td>\n      <td>1725.55230</td>\n      <td>True</td>\n    </tr>\n    <tr>\n      <th>2</th>\n      <td>2</td>\n      <td>28</td>\n      <td>male</td>\n      <td>33.000</td>\n      <td>3</td>\n      <td>False</td>\n      <td>southeast</td>\n      <td>4449.46200</td>\n      <td>True</td>\n    </tr>\n    <tr>\n      <th>3</th>\n      <td>3</td>\n      <td>33</td>\n      <td>male</td>\n      <td>22.705</td>\n      <td>0</td>\n      <td>False</td>\n      <td>northwest</td>\n      <td>21984.47061</td>\n      <td>False</td>\n    </tr>\n    <tr>\n      <th>4</th>\n      <td>4</td>\n      <td>32</td>\n      <td>male</td>\n      <td>28.880</td>\n      <td>0</td>\n      <td>False</td>\n      <td>northwest</td>\n      <td>3866.85520</td>\n      <td>False</td>\n    </tr>\n  </tbody>\n</table>\n</div>"
     },
     "metadata": {},
     "execution_count": 29
    }
   ],
   "source": [
    "health.head()"
   ]
  },
  {
   "source": [
    "# Feature Engineering"
   ],
   "cell_type": "markdown",
   "metadata": {}
  },
  {
   "cell_type": "code",
   "execution_count": 30,
   "metadata": {},
   "outputs": [],
   "source": [
    "health.drop(columns=['Unnamed: 0','children?'],inplace=True)"
   ]
  },
  {
   "source": [
    "## to build a model we have to elminate all the categorical variables\n",
    "\n",
    "### `sex` column, `smoker` column and `region` columns\n",
    "\n",
    "### let's make all the columns into dummies columns"
   ],
   "cell_type": "markdown",
   "metadata": {}
  },
  {
   "cell_type": "code",
   "execution_count": 31,
   "metadata": {},
   "outputs": [
    {
     "output_type": "execute_result",
     "data": {
      "text/plain": [
       "array(['southwest', 'southeast', 'northwest', 'northeast'], dtype=object)"
      ]
     },
     "metadata": {},
     "execution_count": 31
    }
   ],
   "source": [
    "health['region'].unique()"
   ]
  },
  {
   "cell_type": "code",
   "execution_count": 32,
   "metadata": {},
   "outputs": [],
   "source": [
    "health['smoker'] = np.where(health['smoker']==True,'Yes','No')"
   ]
  },
  {
   "cell_type": "code",
   "execution_count": 33,
   "metadata": {},
   "outputs": [],
   "source": [
    "health_corrected = pd.get_dummies(health)\n",
    "#health_corrected.drop(columns=['region','smoker','sex'],inplace=True)"
   ]
  },
  {
   "cell_type": "code",
   "execution_count": 34,
   "metadata": {},
   "outputs": [
    {
     "output_type": "execute_result",
     "data": {
      "text/plain": [
       "   age     bmi  children      charges  sex_female  sex_male  smoker_No  \\\n",
       "0   19  27.900         0  16884.92400           1         0          0   \n",
       "1   18  33.770         1   1725.55230           0         1          1   \n",
       "2   28  33.000         3   4449.46200           0         1          1   \n",
       "3   33  22.705         0  21984.47061           0         1          1   \n",
       "4   32  28.880         0   3866.85520           0         1          1   \n",
       "\n",
       "   smoker_Yes  region_northeast  region_northwest  region_southeast  \\\n",
       "0           1                 0                 0                 0   \n",
       "1           0                 0                 0                 1   \n",
       "2           0                 0                 0                 1   \n",
       "3           0                 0                 1                 0   \n",
       "4           0                 0                 1                 0   \n",
       "\n",
       "   region_southwest  \n",
       "0                 1  \n",
       "1                 0  \n",
       "2                 0  \n",
       "3                 0  \n",
       "4                 0  "
      ],
      "text/html": "<div>\n<style scoped>\n    .dataframe tbody tr th:only-of-type {\n        vertical-align: middle;\n    }\n\n    .dataframe tbody tr th {\n        vertical-align: top;\n    }\n\n    .dataframe thead th {\n        text-align: right;\n    }\n</style>\n<table border=\"1\" class=\"dataframe\">\n  <thead>\n    <tr style=\"text-align: right;\">\n      <th></th>\n      <th>age</th>\n      <th>bmi</th>\n      <th>children</th>\n      <th>charges</th>\n      <th>sex_female</th>\n      <th>sex_male</th>\n      <th>smoker_No</th>\n      <th>smoker_Yes</th>\n      <th>region_northeast</th>\n      <th>region_northwest</th>\n      <th>region_southeast</th>\n      <th>region_southwest</th>\n    </tr>\n  </thead>\n  <tbody>\n    <tr>\n      <th>0</th>\n      <td>19</td>\n      <td>27.900</td>\n      <td>0</td>\n      <td>16884.92400</td>\n      <td>1</td>\n      <td>0</td>\n      <td>0</td>\n      <td>1</td>\n      <td>0</td>\n      <td>0</td>\n      <td>0</td>\n      <td>1</td>\n    </tr>\n    <tr>\n      <th>1</th>\n      <td>18</td>\n      <td>33.770</td>\n      <td>1</td>\n      <td>1725.55230</td>\n      <td>0</td>\n      <td>1</td>\n      <td>1</td>\n      <td>0</td>\n      <td>0</td>\n      <td>0</td>\n      <td>1</td>\n      <td>0</td>\n    </tr>\n    <tr>\n      <th>2</th>\n      <td>28</td>\n      <td>33.000</td>\n      <td>3</td>\n      <td>4449.46200</td>\n      <td>0</td>\n      <td>1</td>\n      <td>1</td>\n      <td>0</td>\n      <td>0</td>\n      <td>0</td>\n      <td>1</td>\n      <td>0</td>\n    </tr>\n    <tr>\n      <th>3</th>\n      <td>33</td>\n      <td>22.705</td>\n      <td>0</td>\n      <td>21984.47061</td>\n      <td>0</td>\n      <td>1</td>\n      <td>1</td>\n      <td>0</td>\n      <td>0</td>\n      <td>1</td>\n      <td>0</td>\n      <td>0</td>\n    </tr>\n    <tr>\n      <th>4</th>\n      <td>32</td>\n      <td>28.880</td>\n      <td>0</td>\n      <td>3866.85520</td>\n      <td>0</td>\n      <td>1</td>\n      <td>1</td>\n      <td>0</td>\n      <td>0</td>\n      <td>1</td>\n      <td>0</td>\n      <td>0</td>\n    </tr>\n  </tbody>\n</table>\n</div>"
     },
     "metadata": {},
     "execution_count": 34
    }
   ],
   "source": [
    "health_corrected.head()"
   ]
  },
  {
   "cell_type": "code",
   "execution_count": 35,
   "metadata": {},
   "outputs": [],
   "source": [
    "features = health_corrected.drop(columns=['charges']).copy()\n",
    "labels = health_corrected['charges']"
   ]
  },
  {
   "source": [
    "# First, let's try predict with all data together"
   ],
   "cell_type": "markdown",
   "metadata": {}
  },
  {
   "cell_type": "code",
   "execution_count": 36,
   "metadata": {},
   "outputs": [],
   "source": [
    "from sklearn.model_selection import train_test_split\n",
    "X_train, X_test, y_train, y_test = train_test_split(features, labels, test_size=0.25, random_state=1)"
   ]
  },
  {
   "source": [
    "### Linear Regression"
   ],
   "cell_type": "markdown",
   "metadata": {}
  },
  {
   "cell_type": "code",
   "execution_count": 37,
   "metadata": {},
   "outputs": [
    {
     "output_type": "stream",
     "name": "stdout",
     "text": [
      "test data accuracy was  0.7339256331232803\n"
     ]
    }
   ],
   "source": [
    "from sklearn.linear_model import LinearRegression\n",
    "from sklearn import metrics\n",
    "\n",
    "lreg = LinearRegression()\n",
    "lreg.fit(X_train,y_train)\n",
    "\n",
    "print(\"test data accuracy was \",lreg.score(X_test,y_test))"
   ]
  },
  {
   "source": [
    "### Ridge Regression"
   ],
   "cell_type": "markdown",
   "metadata": {}
  },
  {
   "cell_type": "code",
   "execution_count": 38,
   "metadata": {},
   "outputs": [
    {
     "output_type": "stream",
     "name": "stdout",
     "text": [
      "test data accuracy was  0.7340735290114273\n"
     ]
    }
   ],
   "source": [
    "#ridge tries to control the coefficients\n",
    "from sklearn.linear_model import Ridge\n",
    "\n",
    "# Create linear regression\n",
    "regr = Ridge(alpha=1.0)\n",
    "\n",
    "# Train the linear regression\n",
    "regr_model = regr.fit(X_train, y_train)\n",
    "\n",
    "# Score the model\n",
    "print(\"test data accuracy was \",regr.score(X_test,y_test))"
   ]
  },
  {
   "source": [
    "### Lasso Regression"
   ],
   "cell_type": "markdown",
   "metadata": {}
  },
  {
   "cell_type": "code",
   "execution_count": 39,
   "metadata": {},
   "outputs": [
    {
     "output_type": "stream",
     "name": "stdout",
     "text": [
      "test data accuracy was  0.7339192069733206\n"
     ]
    }
   ],
   "source": [
    "from sklearn.linear_model import Lasso\n",
    "\n",
    "# Create linear regression\n",
    "lass = Lasso(alpha=1.0)\n",
    "\n",
    "# Train the linear regression\n",
    "lass_model = lass.fit(X_train, y_train)\n",
    "\n",
    "# Score the model\n",
    "print(\"test data accuracy was \",lass.score(X_test,y_test))"
   ]
  },
  {
   "source": [
    "### Polynomial Features"
   ],
   "cell_type": "markdown",
   "metadata": {}
  },
  {
   "cell_type": "code",
   "execution_count": 40,
   "metadata": {},
   "outputs": [
    {
     "output_type": "stream",
     "name": "stdout",
     "text": [
      "test data accuracy was  0.840680977448351\n"
     ]
    }
   ],
   "source": [
    "from sklearn.preprocessing import PolynomialFeatures\n",
    "\n",
    "poly = PolynomialFeatures(degree=2)\n",
    "lm_poly=LinearRegression()\n",
    "\n",
    "X_train_poly = poly.fit_transform(X_train.values)\n",
    "X_test_poly = poly.transform(X_test.values)\n",
    "\n",
    "lm_poly.fit(X_train_poly,y_train)\n",
    "\n",
    "pred = lm_poly.predict(X_test_poly)\n",
    "\n",
    "# Score the model\n",
    "print(\"test data accuracy was \",lm_poly.score(X_test_poly,y_test))"
   ]
  },
  {
   "source": [
    "### Bagging Regression"
   ],
   "cell_type": "markdown",
   "metadata": {}
  },
  {
   "cell_type": "code",
   "execution_count": 41,
   "metadata": {},
   "outputs": [
    {
     "output_type": "execute_result",
     "data": {
      "text/plain": [
       "0.8413078664479368"
      ]
     },
     "metadata": {},
     "execution_count": 41
    }
   ],
   "source": [
    "# bagging means we train many \"weak\" predictors but then we combine their predictions and some will hopefully make up for the others' failures\n",
    "# big jump in quality!\n",
    "from sklearn.ensemble import BaggingRegressor\n",
    "from sklearn.tree import DecisionTreeRegressor\n",
    "\n",
    "bagging_reg = BaggingRegressor(\n",
    "    DecisionTreeRegressor(max_depth=3), # depth 3 to force tree to be \"weak\"\n",
    "    n_estimators=10, # 10 trees\n",
    "    max_samples=100, # we limit each weaker tree to 100 datapoints\n",
    "    random_state=1) # fixing random state because I want my examples to work and to look smart\n",
    "\n",
    "bagging_reg.fit(X_train, y_train)\n",
    "bagging_reg.score(X_test,y_test)"
   ]
  },
  {
   "source": [
    "### Random Forest"
   ],
   "cell_type": "markdown",
   "metadata": {}
  },
  {
   "cell_type": "code",
   "execution_count": 42,
   "metadata": {},
   "outputs": [
    {
     "output_type": "execute_result",
     "data": {
      "text/plain": [
       "0.8450462951460791"
      ]
     },
     "metadata": {},
     "execution_count": 42
    }
   ],
   "source": [
    "# random forests not only shuffle the dataset, they also randomly select some features\n",
    "# some trees will focus one one part of the data, some in others, then they meet to vote and get a holistic result \n",
    "from sklearn.ensemble import RandomForestRegressor\n",
    "\n",
    "forest = RandomForestRegressor(n_estimators=10, # same 10 trees\n",
    "                               max_depth=3, # depth 3 to force tree to be \"weak\"\n",
    "                               random_state=1) # fixing rand because I'm insecure and afraid you will judge me if I get a bad random selection that does not prove my point\n",
    "forest.fit(X_train, y_train)\n",
    "forest.score(X_test,y_test)"
   ]
  },
  {
   "cell_type": "code",
   "execution_count": 43,
   "metadata": {},
   "outputs": [
    {
     "output_type": "stream",
     "name": "stdout",
     "text": [
      "Linear Regression val R^2: 0.734\nRidge Regression val R^2: 0.734\nLasso Regression val R^2: 0.734\nBagging Regression val R^2: 0.841\nRandom Forest val R^2: 0.845\n"
     ]
    }
   ],
   "source": [
    "print(f'Linear Regression val R^2: {lreg.score(X_test,y_test):.3f}')\n",
    "print(f'Ridge Regression val R^2: {regr.score(X_test,y_test):.3f}')\n",
    "print(f'Lasso Regression val R^2: {lass.score(X_test,y_test):.3f}')\n",
    "print(f'Bagging Regression val R^2: {bagging_reg.score(X_test,y_test):.3f}')\n",
    "print(f'Random Forest val R^2: {forest.score(X_test,y_test):.3f}')"
   ]
  },
  {
   "source": [
    "## Before to export the model, let's do `cross validation` in the choosen model"
   ],
   "cell_type": "markdown",
   "metadata": {}
  },
  {
   "cell_type": "code",
   "execution_count": 96,
   "metadata": {},
   "outputs": [
    {
     "output_type": "stream",
     "name": "stdout",
     "text": [
      "{'fit_time': array([0.03825378, 0.01896596, 0.02296329, 0.02291346, 0.01898193]), 'score_time': array([0.00699878, 0.00695038, 0.00299191, 0.00302863, 0.00299311]), 'test_score': array([0.85147033, 0.86315467, 0.83154635, 0.81825298, 0.89321974])}\n"
     ]
    }
   ],
   "source": [
    "from sklearn.model_selection import cross_validate\n",
    "\n",
    "print(cross_validate(forest,X_train, y_train, cv=5)) # checking for overfitting"
   ]
  },
  {
   "source": [
    "## Export the best model for all data together"
   ],
   "cell_type": "markdown",
   "metadata": {}
  },
  {
   "cell_type": "code",
   "execution_count": 44,
   "metadata": {},
   "outputs": [],
   "source": [
    "pickle.dump(forest, open('model.pkl','wb'))"
   ]
  },
  {
   "source": [
    "# The best idea for the prediction of charges is separate a model for smokers and other to non-smokers. Let's try and check if we get better accurancy"
   ],
   "cell_type": "markdown",
   "metadata": {}
  },
  {
   "cell_type": "code",
   "execution_count": 59,
   "metadata": {},
   "outputs": [],
   "source": [
    "health_smokers = health_corrected[health_corrected['smoker_Yes']==1]\n",
    "features_smokers = health_smokers.drop(columns=['charges'])\n",
    "labels_smokers = health_smokers['charges']"
   ]
  },
  {
   "cell_type": "code",
   "execution_count": 60,
   "metadata": {},
   "outputs": [],
   "source": [
    "health_non_smokers = health_corrected[health_corrected['smoker_Yes']==0]\n",
    "features_non_smokers = health_non_smokers.drop(columns=['charges'])\n",
    "labels_non_smokers = health_non_smokers['charges']"
   ]
  },
  {
   "source": [
    "## For smokers, a good idea to model is Decision tree"
   ],
   "cell_type": "markdown",
   "metadata": {}
  },
  {
   "cell_type": "code",
   "execution_count": 27,
   "metadata": {},
   "outputs": [],
   "source": [
    "from sklearn.model_selection import train_test_split\n",
    "X_train_s, X_test_s, y_train_s, y_test_s = train_test_split(features_smokers, labels_smokers, test_size=0.25, random_state=1)"
   ]
  },
  {
   "cell_type": "code",
   "execution_count": 38,
   "metadata": {},
   "outputs": [
    {
     "output_type": "execute_result",
     "data": {
      "text/plain": [
       "-0.5658218345420358"
      ]
     },
     "metadata": {},
     "execution_count": 38
    }
   ],
   "source": [
    "from sklearn.tree import DecisionTreeRegressor\n",
    "smoker_model = DecisionTreeRegressor()\n",
    "\n",
    "model = smoker_model.fit(X_train_s, y_train_s)\n",
    "model.score(X_test_s, y_test_s)"
   ]
  },
  {
   "source": [
    "### Non-smokers"
   ],
   "cell_type": "markdown",
   "metadata": {}
  },
  {
   "cell_type": "code",
   "execution_count": 61,
   "metadata": {},
   "outputs": [],
   "source": [
    "from sklearn.model_selection import train_test_split\n",
    "X_train_ns, X_test_ns, y_train_ns, y_test_ns = train_test_split(features_non_smokers, labels_non_smokers, test_size=0.25, random_state=1)"
   ]
  },
  {
   "cell_type": "code",
   "execution_count": 63,
   "metadata": {},
   "outputs": [
    {
     "output_type": "stream",
     "name": "stdout",
     "text": [
      "test data accuracy was  0.31398157333140475\n"
     ]
    }
   ],
   "source": [
    "from sklearn.linear_model import LinearRegression\n",
    "from sklearn import metrics\n",
    "\n",
    "non_smoker_model = LinearRegression()\n",
    "non_smoker_model.fit(X_train_ns,y_train_ns)\n",
    "y_pred_ns = non_smoker_model.predict(X_test_ns)\n",
    "\n",
    "print(\"test data accuracy was \",non_smoker_model.score(X_test_ns,y_test_ns))\n"
   ]
  },
  {
   "cell_type": "code",
   "execution_count": 64,
   "metadata": {},
   "outputs": [
    {
     "output_type": "stream",
     "name": "stdout",
     "text": [
      "{'fit_time': array([0.00699377, 0.00797629, 0.00897574, 0.00400305, 0.00495434]), 'score_time': array([0.00397968, 0.00299263, 0.00199652, 0.00500536, 0.00099659]), 'test_score': array([0.05623915, 0.40087583, 0.35752694, 0.26131733, 0.39566462])}\n"
     ]
    }
   ],
   "source": [
    "# cross validation\n",
    "\n",
    "from sklearn.model_selection import cross_validate\n",
    "\n",
    "print(cross_validate(non_smoker_model,X_test_ns, y_test_ns, cv=5)) # checking for overfitting"
   ]
  },
  {
   "cell_type": "code",
   "execution_count": 65,
   "metadata": {},
   "outputs": [
    {
     "output_type": "stream",
     "name": "stdout",
     "text": [
      "R-squared 0.31398157333140475\n"
     ]
    }
   ],
   "source": [
    "from sklearn.metrics import r2_score\n",
    "\n",
    "print('R-squared',r2_score(y_test_ns, y_pred_ns))"
   ]
  },
  {
   "cell_type": "code",
   "execution_count": null,
   "metadata": {},
   "outputs": [],
   "source": []
  }
 ]
}